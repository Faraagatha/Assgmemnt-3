{
 "cells": [
  {
   "cell_type": "code",
   "execution_count": 1,
   "id": "1084c7cd",
   "metadata": {},
   "outputs": [],
   "source": [
    "import pandas as pd\n",
    "import matplotlib.pyplot as plt\n",
    "from matplotlib.gridspec import GridSpec\n",
    "from scipy import stats\n",
    "pd.set_option('display.max_columns', 30)\n",
    "pd.set_option('display.max_rows', 200)\n",
    "#pd.set_option('display.float_format', lambda x: '%.2f' % x)\n",
    "import numpy as np \n",
    "import seaborn as sns\n",
    "import warnings\n",
    "warnings.filterwarnings('ignore')"
   ]
  },
  {
   "cell_type": "code",
   "execution_count": 2,
   "id": "6af41950",
   "metadata": {
    "scrolled": false
   },
   "outputs": [
    {
     "data": {
      "text/html": [
       "<div>\n",
       "<style scoped>\n",
       "    .dataframe tbody tr th:only-of-type {\n",
       "        vertical-align: middle;\n",
       "    }\n",
       "\n",
       "    .dataframe tbody tr th {\n",
       "        vertical-align: top;\n",
       "    }\n",
       "\n",
       "    .dataframe thead th {\n",
       "        text-align: right;\n",
       "    }\n",
       "</style>\n",
       "<table border=\"1\" class=\"dataframe\">\n",
       "  <thead>\n",
       "    <tr style=\"text-align: right;\">\n",
       "      <th></th>\n",
       "      <th>age</th>\n",
       "      <th>job</th>\n",
       "      <th>marital</th>\n",
       "      <th>education</th>\n",
       "      <th>default</th>\n",
       "      <th>balance</th>\n",
       "      <th>housing</th>\n",
       "      <th>loan</th>\n",
       "      <th>contact</th>\n",
       "      <th>day</th>\n",
       "      <th>month</th>\n",
       "      <th>duration</th>\n",
       "      <th>campaign</th>\n",
       "      <th>pdays</th>\n",
       "      <th>previous</th>\n",
       "      <th>poutcome</th>\n",
       "      <th>y</th>\n",
       "    </tr>\n",
       "  </thead>\n",
       "  <tbody>\n",
       "    <tr>\n",
       "      <th>0</th>\n",
       "      <td>58</td>\n",
       "      <td>management</td>\n",
       "      <td>married</td>\n",
       "      <td>tertiary</td>\n",
       "      <td>no</td>\n",
       "      <td>2143</td>\n",
       "      <td>yes</td>\n",
       "      <td>no</td>\n",
       "      <td>unknown</td>\n",
       "      <td>5</td>\n",
       "      <td>may</td>\n",
       "      <td>261</td>\n",
       "      <td>1</td>\n",
       "      <td>-1</td>\n",
       "      <td>0</td>\n",
       "      <td>unknown</td>\n",
       "      <td>no</td>\n",
       "    </tr>\n",
       "    <tr>\n",
       "      <th>1</th>\n",
       "      <td>44</td>\n",
       "      <td>technician</td>\n",
       "      <td>single</td>\n",
       "      <td>secondary</td>\n",
       "      <td>no</td>\n",
       "      <td>29</td>\n",
       "      <td>yes</td>\n",
       "      <td>no</td>\n",
       "      <td>unknown</td>\n",
       "      <td>5</td>\n",
       "      <td>may</td>\n",
       "      <td>151</td>\n",
       "      <td>1</td>\n",
       "      <td>-1</td>\n",
       "      <td>0</td>\n",
       "      <td>unknown</td>\n",
       "      <td>no</td>\n",
       "    </tr>\n",
       "    <tr>\n",
       "      <th>2</th>\n",
       "      <td>33</td>\n",
       "      <td>entrepreneur</td>\n",
       "      <td>married</td>\n",
       "      <td>secondary</td>\n",
       "      <td>no</td>\n",
       "      <td>2</td>\n",
       "      <td>yes</td>\n",
       "      <td>yes</td>\n",
       "      <td>unknown</td>\n",
       "      <td>5</td>\n",
       "      <td>may</td>\n",
       "      <td>76</td>\n",
       "      <td>1</td>\n",
       "      <td>-1</td>\n",
       "      <td>0</td>\n",
       "      <td>unknown</td>\n",
       "      <td>no</td>\n",
       "    </tr>\n",
       "    <tr>\n",
       "      <th>3</th>\n",
       "      <td>47</td>\n",
       "      <td>blue-collar</td>\n",
       "      <td>married</td>\n",
       "      <td>unknown</td>\n",
       "      <td>no</td>\n",
       "      <td>1506</td>\n",
       "      <td>yes</td>\n",
       "      <td>no</td>\n",
       "      <td>unknown</td>\n",
       "      <td>5</td>\n",
       "      <td>may</td>\n",
       "      <td>92</td>\n",
       "      <td>1</td>\n",
       "      <td>-1</td>\n",
       "      <td>0</td>\n",
       "      <td>unknown</td>\n",
       "      <td>no</td>\n",
       "    </tr>\n",
       "    <tr>\n",
       "      <th>4</th>\n",
       "      <td>33</td>\n",
       "      <td>unknown</td>\n",
       "      <td>single</td>\n",
       "      <td>unknown</td>\n",
       "      <td>no</td>\n",
       "      <td>1</td>\n",
       "      <td>no</td>\n",
       "      <td>no</td>\n",
       "      <td>unknown</td>\n",
       "      <td>5</td>\n",
       "      <td>may</td>\n",
       "      <td>198</td>\n",
       "      <td>1</td>\n",
       "      <td>-1</td>\n",
       "      <td>0</td>\n",
       "      <td>unknown</td>\n",
       "      <td>no</td>\n",
       "    </tr>\n",
       "    <tr>\n",
       "      <th>...</th>\n",
       "      <td>...</td>\n",
       "      <td>...</td>\n",
       "      <td>...</td>\n",
       "      <td>...</td>\n",
       "      <td>...</td>\n",
       "      <td>...</td>\n",
       "      <td>...</td>\n",
       "      <td>...</td>\n",
       "      <td>...</td>\n",
       "      <td>...</td>\n",
       "      <td>...</td>\n",
       "      <td>...</td>\n",
       "      <td>...</td>\n",
       "      <td>...</td>\n",
       "      <td>...</td>\n",
       "      <td>...</td>\n",
       "      <td>...</td>\n",
       "    </tr>\n",
       "    <tr>\n",
       "      <th>45206</th>\n",
       "      <td>51</td>\n",
       "      <td>technician</td>\n",
       "      <td>married</td>\n",
       "      <td>tertiary</td>\n",
       "      <td>no</td>\n",
       "      <td>825</td>\n",
       "      <td>no</td>\n",
       "      <td>no</td>\n",
       "      <td>cellular</td>\n",
       "      <td>17</td>\n",
       "      <td>nov</td>\n",
       "      <td>977</td>\n",
       "      <td>3</td>\n",
       "      <td>-1</td>\n",
       "      <td>0</td>\n",
       "      <td>unknown</td>\n",
       "      <td>yes</td>\n",
       "    </tr>\n",
       "    <tr>\n",
       "      <th>45207</th>\n",
       "      <td>71</td>\n",
       "      <td>retired</td>\n",
       "      <td>divorced</td>\n",
       "      <td>primary</td>\n",
       "      <td>no</td>\n",
       "      <td>1729</td>\n",
       "      <td>no</td>\n",
       "      <td>no</td>\n",
       "      <td>cellular</td>\n",
       "      <td>17</td>\n",
       "      <td>nov</td>\n",
       "      <td>456</td>\n",
       "      <td>2</td>\n",
       "      <td>-1</td>\n",
       "      <td>0</td>\n",
       "      <td>unknown</td>\n",
       "      <td>yes</td>\n",
       "    </tr>\n",
       "    <tr>\n",
       "      <th>45208</th>\n",
       "      <td>72</td>\n",
       "      <td>retired</td>\n",
       "      <td>married</td>\n",
       "      <td>secondary</td>\n",
       "      <td>no</td>\n",
       "      <td>5715</td>\n",
       "      <td>no</td>\n",
       "      <td>no</td>\n",
       "      <td>cellular</td>\n",
       "      <td>17</td>\n",
       "      <td>nov</td>\n",
       "      <td>1127</td>\n",
       "      <td>5</td>\n",
       "      <td>184</td>\n",
       "      <td>3</td>\n",
       "      <td>success</td>\n",
       "      <td>yes</td>\n",
       "    </tr>\n",
       "    <tr>\n",
       "      <th>45209</th>\n",
       "      <td>57</td>\n",
       "      <td>blue-collar</td>\n",
       "      <td>married</td>\n",
       "      <td>secondary</td>\n",
       "      <td>no</td>\n",
       "      <td>668</td>\n",
       "      <td>no</td>\n",
       "      <td>no</td>\n",
       "      <td>telephone</td>\n",
       "      <td>17</td>\n",
       "      <td>nov</td>\n",
       "      <td>508</td>\n",
       "      <td>4</td>\n",
       "      <td>-1</td>\n",
       "      <td>0</td>\n",
       "      <td>unknown</td>\n",
       "      <td>no</td>\n",
       "    </tr>\n",
       "    <tr>\n",
       "      <th>45210</th>\n",
       "      <td>37</td>\n",
       "      <td>entrepreneur</td>\n",
       "      <td>married</td>\n",
       "      <td>secondary</td>\n",
       "      <td>no</td>\n",
       "      <td>2971</td>\n",
       "      <td>no</td>\n",
       "      <td>no</td>\n",
       "      <td>cellular</td>\n",
       "      <td>17</td>\n",
       "      <td>nov</td>\n",
       "      <td>361</td>\n",
       "      <td>2</td>\n",
       "      <td>188</td>\n",
       "      <td>11</td>\n",
       "      <td>other</td>\n",
       "      <td>no</td>\n",
       "    </tr>\n",
       "  </tbody>\n",
       "</table>\n",
       "<p>45211 rows × 17 columns</p>\n",
       "</div>"
      ],
      "text/plain": [
       "       age           job   marital  education default  balance housing loan  \\\n",
       "0       58    management   married   tertiary      no     2143     yes   no   \n",
       "1       44    technician    single  secondary      no       29     yes   no   \n",
       "2       33  entrepreneur   married  secondary      no        2     yes  yes   \n",
       "3       47   blue-collar   married    unknown      no     1506     yes   no   \n",
       "4       33       unknown    single    unknown      no        1      no   no   \n",
       "...    ...           ...       ...        ...     ...      ...     ...  ...   \n",
       "45206   51    technician   married   tertiary      no      825      no   no   \n",
       "45207   71       retired  divorced    primary      no     1729      no   no   \n",
       "45208   72       retired   married  secondary      no     5715      no   no   \n",
       "45209   57   blue-collar   married  secondary      no      668      no   no   \n",
       "45210   37  entrepreneur   married  secondary      no     2971      no   no   \n",
       "\n",
       "         contact  day month  duration  campaign  pdays  previous poutcome    y  \n",
       "0        unknown    5   may       261         1     -1         0  unknown   no  \n",
       "1        unknown    5   may       151         1     -1         0  unknown   no  \n",
       "2        unknown    5   may        76         1     -1         0  unknown   no  \n",
       "3        unknown    5   may        92         1     -1         0  unknown   no  \n",
       "4        unknown    5   may       198         1     -1         0  unknown   no  \n",
       "...          ...  ...   ...       ...       ...    ...       ...      ...  ...  \n",
       "45206   cellular   17   nov       977         3     -1         0  unknown  yes  \n",
       "45207   cellular   17   nov       456         2     -1         0  unknown  yes  \n",
       "45208   cellular   17   nov      1127         5    184         3  success  yes  \n",
       "45209  telephone   17   nov       508         4     -1         0  unknown   no  \n",
       "45210   cellular   17   nov       361         2    188        11    other   no  \n",
       "\n",
       "[45211 rows x 17 columns]"
      ]
     },
     "execution_count": 2,
     "metadata": {},
     "output_type": "execute_result"
    }
   ],
   "source": [
    "df = pd.read_csv('bank-full.csv', sep= ';')\n",
    "df"
   ]
  },
  {
   "cell_type": "markdown",
   "id": "c34fefc5",
   "metadata": {},
   "source": [
    "## Description\n",
    "- Age : Age of the customer - Integer value\n",
    "- job : Job of the customer - Categorical feature\n",
    "- marital : Marital status of the customer- Categorical feature\n",
    "- education : eduction status - categorical feature\n",
    "- default : whether the custome is defaulter or not - categorical feature\n",
    "- balance : yearly account balance of the customer - continueous feature\n",
    "- housing : housing status of the customer - categorical feature\n",
    "- loan : whether the customer availed any loans - categorical feature\n",
    "- contact : how many times the customer has been contacted - categorical feature\n",
    "- day : day from last contact - discrete feature\n",
    "- month : month from last contacted date - categorical feature.\n",
    "- duration : duration of last contact in hours - contineous feature\n",
    "- campaign : contact with how many campaign - categorical feature\n",
    "- pdays : number of days that passed by after the client was last contacted from a previous campaign (numeric; -1 means client was not previously contacted)\n",
    "- previous: number of contacts performed before this campaign and for this client (numeric)\n",
    "- poutcome: outcome of the previous marketing campaign (categorical: 'failure','nonexistent','success')\n",
    "\n",
    "#### Output variable (desired target):\n",
    "- y : has the client subscribed a term deposit? (binary: 'yes','no')\n",
    "\n"
   ]
  },
  {
   "cell_type": "code",
   "execution_count": 3,
   "id": "2a83fd33",
   "metadata": {},
   "outputs": [
    {
     "name": "stdout",
     "output_type": "stream",
     "text": [
      "<class 'pandas.core.frame.DataFrame'>\n",
      "RangeIndex: 45211 entries, 0 to 45210\n",
      "Data columns (total 17 columns):\n",
      " #   Column     Non-Null Count  Dtype \n",
      "---  ------     --------------  ----- \n",
      " 0   age        45211 non-null  int64 \n",
      " 1   job        45211 non-null  object\n",
      " 2   marital    45211 non-null  object\n",
      " 3   education  45211 non-null  object\n",
      " 4   default    45211 non-null  object\n",
      " 5   balance    45211 non-null  int64 \n",
      " 6   housing    45211 non-null  object\n",
      " 7   loan       45211 non-null  object\n",
      " 8   contact    45211 non-null  object\n",
      " 9   day        45211 non-null  int64 \n",
      " 10  month      45211 non-null  object\n",
      " 11  duration   45211 non-null  int64 \n",
      " 12  campaign   45211 non-null  int64 \n",
      " 13  pdays      45211 non-null  int64 \n",
      " 14  previous   45211 non-null  int64 \n",
      " 15  poutcome   45211 non-null  object\n",
      " 16  y          45211 non-null  object\n",
      "dtypes: int64(7), object(10)\n",
      "memory usage: 5.9+ MB\n"
     ]
    }
   ],
   "source": [
    "df.info()"
   ]
  },
  {
   "cell_type": "markdown",
   "id": "661746b9",
   "metadata": {},
   "source": [
    "## Data cleansing"
   ]
  },
  {
   "cell_type": "code",
   "execution_count": 4,
   "id": "04ac653e",
   "metadata": {
    "scrolled": true
   },
   "outputs": [
    {
     "data": {
      "text/plain": [
       "age          0\n",
       "job          0\n",
       "marital      0\n",
       "education    0\n",
       "default      0\n",
       "balance      0\n",
       "housing      0\n",
       "loan         0\n",
       "contact      0\n",
       "day          0\n",
       "month        0\n",
       "duration     0\n",
       "campaign     0\n",
       "pdays        0\n",
       "previous     0\n",
       "poutcome     0\n",
       "y            0\n",
       "dtype: int64"
      ]
     },
     "execution_count": 4,
     "metadata": {},
     "output_type": "execute_result"
    }
   ],
   "source": [
    "# check missing value\n",
    "df.isna().sum()"
   ]
  },
  {
   "cell_type": "code",
   "execution_count": 5,
   "id": "ad5d0447",
   "metadata": {
    "scrolled": true
   },
   "outputs": [
    {
     "data": {
      "text/plain": [
       "0"
      ]
     },
     "execution_count": 5,
     "metadata": {},
     "output_type": "execute_result"
    }
   ],
   "source": [
    "df.duplicated().sum()"
   ]
  },
  {
   "cell_type": "markdown",
   "id": "cdd13be2",
   "metadata": {},
   "source": [
    "## Exploration Data Analysis"
   ]
  },
  {
   "cell_type": "markdown",
   "id": "899bffcd",
   "metadata": {},
   "source": [
    "### Feature Engineering 1"
   ]
  },
  {
   "cell_type": "code",
   "execution_count": 6,
   "id": "dab98026",
   "metadata": {
    "scrolled": false
   },
   "outputs": [],
   "source": [
    "# feature engineering for predictor\n",
    "df['y']=df['y'].map({'yes':1,'no':0})\n",
    "df['default']=df['default'].map({'yes':1,'no':0})\n",
    "df['housing']=df['housing'].map({'yes':1,'no':0})\n",
    "df['loan']=df['loan'].map({'yes':1,'no':0})# melakukan penginisialisasian terhadap variable predictor\n",
    "df = df[df['pdays'] > -1]  # mengambil data diatas -1 karna  pdays -1 belum pernah dikontak sebelumnya"
   ]
  },
  {
   "cell_type": "code",
   "execution_count": 7,
   "id": "1f8d255e",
   "metadata": {
    "scrolled": true
   },
   "outputs": [
    {
     "data": {
      "text/html": [
       "<div>\n",
       "<style scoped>\n",
       "    .dataframe tbody tr th:only-of-type {\n",
       "        vertical-align: middle;\n",
       "    }\n",
       "\n",
       "    .dataframe tbody tr th {\n",
       "        vertical-align: top;\n",
       "    }\n",
       "\n",
       "    .dataframe thead th {\n",
       "        text-align: right;\n",
       "    }\n",
       "</style>\n",
       "<table border=\"1\" class=\"dataframe\">\n",
       "  <thead>\n",
       "    <tr style=\"text-align: right;\">\n",
       "      <th></th>\n",
       "      <th>age</th>\n",
       "      <th>default</th>\n",
       "      <th>balance</th>\n",
       "      <th>housing</th>\n",
       "      <th>loan</th>\n",
       "      <th>day</th>\n",
       "      <th>duration</th>\n",
       "      <th>campaign</th>\n",
       "      <th>pdays</th>\n",
       "      <th>previous</th>\n",
       "      <th>y</th>\n",
       "    </tr>\n",
       "  </thead>\n",
       "  <tbody>\n",
       "    <tr>\n",
       "      <th>24060</th>\n",
       "      <td>33</td>\n",
       "      <td>0</td>\n",
       "      <td>882</td>\n",
       "      <td>0</td>\n",
       "      <td>0</td>\n",
       "      <td>21</td>\n",
       "      <td>39</td>\n",
       "      <td>1</td>\n",
       "      <td>151</td>\n",
       "      <td>3</td>\n",
       "      <td>0</td>\n",
       "    </tr>\n",
       "    <tr>\n",
       "      <th>24062</th>\n",
       "      <td>42</td>\n",
       "      <td>0</td>\n",
       "      <td>-247</td>\n",
       "      <td>1</td>\n",
       "      <td>1</td>\n",
       "      <td>21</td>\n",
       "      <td>519</td>\n",
       "      <td>1</td>\n",
       "      <td>166</td>\n",
       "      <td>1</td>\n",
       "      <td>1</td>\n",
       "    </tr>\n",
       "    <tr>\n",
       "      <th>24064</th>\n",
       "      <td>33</td>\n",
       "      <td>0</td>\n",
       "      <td>3444</td>\n",
       "      <td>1</td>\n",
       "      <td>0</td>\n",
       "      <td>21</td>\n",
       "      <td>144</td>\n",
       "      <td>1</td>\n",
       "      <td>91</td>\n",
       "      <td>4</td>\n",
       "      <td>1</td>\n",
       "    </tr>\n",
       "    <tr>\n",
       "      <th>24072</th>\n",
       "      <td>36</td>\n",
       "      <td>0</td>\n",
       "      <td>2415</td>\n",
       "      <td>1</td>\n",
       "      <td>0</td>\n",
       "      <td>22</td>\n",
       "      <td>73</td>\n",
       "      <td>1</td>\n",
       "      <td>86</td>\n",
       "      <td>4</td>\n",
       "      <td>0</td>\n",
       "    </tr>\n",
       "    <tr>\n",
       "      <th>24077</th>\n",
       "      <td>36</td>\n",
       "      <td>0</td>\n",
       "      <td>0</td>\n",
       "      <td>1</td>\n",
       "      <td>0</td>\n",
       "      <td>23</td>\n",
       "      <td>140</td>\n",
       "      <td>1</td>\n",
       "      <td>143</td>\n",
       "      <td>3</td>\n",
       "      <td>1</td>\n",
       "    </tr>\n",
       "  </tbody>\n",
       "</table>\n",
       "</div>"
      ],
      "text/plain": [
       "       age  default  balance  housing  loan  day  duration  campaign  pdays  \\\n",
       "24060   33        0      882        0     0   21        39         1    151   \n",
       "24062   42        0     -247        1     1   21       519         1    166   \n",
       "24064   33        0     3444        1     0   21       144         1     91   \n",
       "24072   36        0     2415        1     0   22        73         1     86   \n",
       "24077   36        0        0        1     0   23       140         1    143   \n",
       "\n",
       "       previous  y  \n",
       "24060         3  0  \n",
       "24062         1  1  \n",
       "24064         4  1  \n",
       "24072         4  0  \n",
       "24077         3  1  "
      ]
     },
     "execution_count": 7,
     "metadata": {},
     "output_type": "execute_result"
    }
   ],
   "source": [
    "df_numerik = df.select_dtypes(include=['float64','int64'])\n",
    "df_numerik.head()"
   ]
  },
  {
   "cell_type": "code",
   "execution_count": 8,
   "id": "c2306a40",
   "metadata": {
    "scrolled": true
   },
   "outputs": [
    {
     "name": "stderr",
     "output_type": "stream",
     "text": [
      "findfont: Font family ['San'] not found. Falling back to DejaVu Sans.\n"
     ]
    },
    {
     "data": {
      "image/png": "[encoded data removed]",
      "text/plain": [
       "<Figure size 1296x576 with 1 Axes>"
      ]
     },
     "metadata": {
      "needs_background": "light"
     },
     "output_type": "display_data"
    }
   ],
   "source": [
    "palette =  ['#A7D2CB','#C98474','#874C62','#7FB77E','#F7F6DC', '#FFC090']\n",
    "fig=plt.figure(figsize=(18,8), edgecolor='black')\n",
    "plt.suptitle(\"Compare the deposit by Age\", family='Serif', size=15,weight='bold',ha='right')\n",
    "\n",
    "plt.figtext(0.57,0.93,\"Histogram and boxplot to identify the mid value of Age by deposits\", family='Serif', size=12, ha='right')\n",
    "gs = GridSpec(nrows=2, ncols=4, figure=fig)\n",
    "ax1=plt.subplot(gs[0,:3])\n",
    "plt.figtext(0.05,0.45,\"Observation: Dari distribusi umur terhadap deposit, terlihat bahwa usia >27, lebih banyak yang mengajukan deposit dan dari proporsi keseluruhan data, lebih banyak yang untuk tidak deposit\",\n",
    "           family='San', size=12, ha='left')\n",
    "sns.histplot(data=df, x='age', bins=10, ax=ax1, kde=True, hue='y', multiple='layer', element='bars', palette=['#00876c','#d43d51']);"
   ]
  },
  {
   "cell_type": "code",
   "execution_count": 9,
   "id": "56949beb",
   "metadata": {},
   "outputs": [
    {
     "data": {
      "image/png": "[encoded data removed]",
      "text/plain": [
       "<Figure size 864x576 with 1 Axes>"
      ]
     },
     "metadata": {
      "needs_background": "light"
     },
     "output_type": "display_data"
    }
   ],
   "source": [
    "fig = plt.figure(figsize=(12,8))\n",
    "plt.title('job Status vs deposit')\n",
    "g = sns.countplot(x= 'job', hue = 'y', data=df, palette=palette);\n",
    "plt.xticks(rotation=70)\n",
    "plt.legend(title='Succes?', ncol=1, fancybox=True, shadow=True)\n",
    "plt.show()"
   ]
  },
  {
   "cell_type": "markdown",
   "id": "d2129fa3",
   "metadata": {},
   "source": [
    "Dari distribusi pekerjaan terhadap deposit, terlihat bahwa blue colar yang tertinggi dalam menolak deposit, dan management lah yang tertinggi dalam mengajukan depoit"
   ]
  },
  {
   "cell_type": "code",
   "execution_count": 10,
   "id": "1293ab9c",
   "metadata": {
    "scrolled": false
   },
   "outputs": [
    {
     "data": {
      "image/png": "[encoded data removed]",
      "text/plain": [
       "<Figure size 864x576 with 1 Axes>"
      ]
     },
     "metadata": {
      "needs_background": "light"
     },
     "output_type": "display_data"
    }
   ],
   "source": [
    "fig = plt.figure(figsize=(12,8))\n",
    "plt.title('Marital Status vs deposit')\n",
    "g = sns.countplot(x= 'marital', hue = 'y', data=df, palette=palette);\n",
    "plt.xticks(rotation=70)\n",
    "plt.legend(title='Succes?', ncol=1, fancybox=True, shadow=True)\n",
    "plt.show()"
   ]
  },
  {
   "cell_type": "markdown",
   "id": "de8d027d",
   "metadata": {},
   "source": [
    "Dari distribusi status terhadap pekerjaan, terlihat bahwa yang sudah menikah lah yang tertinggi dalam menolak deposit, dan yang sudah menikah juga lah yang tertinggi dalam mengajukan depoit"
   ]
  },
  {
   "cell_type": "code",
   "execution_count": 11,
   "id": "45e98e66",
   "metadata": {},
   "outputs": [
    {
     "data": {
      "image/png": "[encoded data removed]",
      "text/plain": [
       "<Figure size 864x576 with 1 Axes>"
      ]
     },
     "metadata": {
      "needs_background": "light"
     },
     "output_type": "display_data"
    }
   ],
   "source": [
    "fig = plt.figure(figsize=(12,8))\n",
    "plt.title('education Status vs deposit')\n",
    "g = sns.countplot(x= 'education', hue = 'y', data=df, palette=palette);\n",
    "plt.xticks(rotation=70)\n",
    "plt.legend(title='Succes?', ncol=1, fancybox=True, shadow=True)\n",
    "plt.show()"
   ]
  },
  {
   "cell_type": "code",
   "execution_count": 12,
   "id": "e2df6737",
   "metadata": {},
   "outputs": [
    {
     "data": {
      "image/png": "[encoded data removed]",
      "text/plain": [
       "<Figure size 864x576 with 1 Axes>"
      ]
     },
     "metadata": {
      "needs_background": "light"
     },
     "output_type": "display_data"
    }
   ],
   "source": [
    "fig = plt.figure(figsize=(12,8))\n",
    "ax=sns.countplot(data=df, x='loan', hue='y', palette=['#854442','#be9b7b'])\n",
    "ax.set_title('Comparison of Loan and deposit', font='Serif', weight='bold', size=15)\n",
    "ax.spines['left'].set_visible(False)\n",
    "ax.spines['right'].set_visible(False)\n",
    "ax.spines['top'].set_visible(False)\n",
    "ax.spines['bottom'].set_visible(False)\n",
    "plt.legend(title='Succes?', ncol=1, fancybox=True, shadow=True)\n",
    "plt.figtext(0.05,-0.05,\"Observation: People who has loan, have not deposited\",\n",
    "           family='San', size=12, ha='left');"
   ]
  },
  {
   "cell_type": "code",
   "execution_count": 13,
   "id": "e4c4bbfd",
   "metadata": {
    "scrolled": false
   },
   "outputs": [
    {
     "data": {
      "image/png": "[encoded data removed]",
      "text/plain": [
       "<Figure size 720x432 with 1 Axes>"
      ]
     },
     "metadata": {
      "needs_background": "light"
     },
     "output_type": "display_data"
    }
   ],
   "source": [
    "# Membuat correlation bar(mencari korelasi antara variable dependent dengan semua variable independent) plot dan correlation matrix(mencari korelasi antar variable independent)\n",
    "fig,ax = plt.subplots(figsize=(10,6))\n",
    "korelasi = df_numerik.drop(columns=['y'], inplace=False).corrwith(df_numerik.y)\n",
    "korelasi.plot.bar(title='Korelasi variabel terhadap keputusan deposit');"
   ]
  },
  {
   "cell_type": "markdown",
   "id": "c36e2a64",
   "metadata": {},
   "source": [
    "dari korelasi barplot diatas variable yang berpengaruh tinggi terhadap prediktor namun positive dapat terlihat pada variable durasi, dan yang berkorelasi namun negative ada pada pdays atau interval waktu dalam jumlah hari dari client di telfon terakhir kali."
   ]
  },
  {
   "cell_type": "code",
   "execution_count": 14,
   "id": "00e71340",
   "metadata": {
    "scrolled": true
   },
   "outputs": [
    {
     "data": {
      "text/plain": [
       "<AxesSubplot:>"
      ]
     },
     "execution_count": 14,
     "metadata": {},
     "output_type": "execute_result"
    },
    {
     "data": {
      "image/png": "[encoded data removed]",
      "text/plain": [
       "<Figure size 432x288 with 2 Axes>"
      ]
     },
     "metadata": {
      "needs_background": "light"
     },
     "output_type": "display_data"
    }
   ],
   "source": [
    "# cek korelasi antar variable independent\n",
    "matriks_korelasi = df_numerik.drop(columns=['y'], inplace=False).corr()\n",
    "sns.heatmap(matriks_korelasi, cmap='Blues')"
   ]
  },
  {
   "cell_type": "markdown",
   "id": "f7070945",
   "metadata": {},
   "source": [
    "dari pearson korelation diatas dapat terlihat bahwa tidak ada yang berkorelasi tinggi antar variable independent, jadi kita tidak perlu men takeout variable tertentu."
   ]
  },
  {
   "cell_type": "code",
   "execution_count": 15,
   "id": "7991005b",
   "metadata": {
    "scrolled": false
   },
   "outputs": [
    {
     "data": {
      "image/png": "[encoded data removed]",
      "text/plain": [
       "<Figure size 720x432 with 1 Axes>"
      ]
     },
     "metadata": {
      "needs_background": "light"
     },
     "output_type": "display_data"
    }
   ],
   "source": [
    "# enrolled distribution\n",
    "ax = df['y'].value_counts().plot(kind='bar', figsize=(10,6), fontsize = 12, color='#4671C1')\n",
    "ax.set_title('deposit(0 = not deposit , 1 = deposit)', size=20, pad=30)\n",
    "ax.set_ylabel('number of enrolled', fontsize=14)\n",
    "\n",
    "for i in ax.patches:\n",
    "    ax.text(i.get_x() + 0.19, i.get_height() + 400, str(round(i.get_height(), 2)), fontsize=15)"
   ]
  },
  {
   "cell_type": "markdown",
   "id": "c323ff92",
   "metadata": {},
   "source": [
    "proporsi data deposit (y) cukup imbalance, perbandingan balance dan imbalance itu juga sangat subjective, bisa 1:2 atau 1:3, dan menurut saya ini sudah cukup imbalance, maka data prediktor akan dilakukan perlakuan khusus, yaitu dibuat balance dengan cara tertentu."
   ]
  },
  {
   "cell_type": "markdown",
   "id": "40732039",
   "metadata": {},
   "source": [
    "### Feature Engineering 2"
   ]
  },
  {
   "cell_type": "code",
   "execution_count": 16,
   "id": "e35b28ba",
   "metadata": {},
   "outputs": [],
   "source": [
    "df.drop(columns = ['month'], inplace=True)\n",
    "df = pd.get_dummies(df)"
   ]
  },
  {
   "cell_type": "code",
   "execution_count": 17,
   "id": "8d229934",
   "metadata": {},
   "outputs": [],
   "source": [
    "# Mendefinisikan var dependen\n",
    "y = np.array(df['y'])\n",
    "# Menghilangkan beberapa kolom yang redundan\n",
    "df.drop(columns = ['y'], inplace=True)"
   ]
  },
  {
   "cell_type": "code",
   "execution_count": 18,
   "id": "7a3cb353",
   "metadata": {},
   "outputs": [
    {
     "data": {
      "text/html": [
       "<div>\n",
       "<style scoped>\n",
       "    .dataframe tbody tr th:only-of-type {\n",
       "        vertical-align: middle;\n",
       "    }\n",
       "\n",
       "    .dataframe tbody tr th {\n",
       "        vertical-align: top;\n",
       "    }\n",
       "\n",
       "    .dataframe thead th {\n",
       "        text-align: right;\n",
       "    }\n",
       "</style>\n",
       "<table border=\"1\" class=\"dataframe\">\n",
       "  <thead>\n",
       "    <tr style=\"text-align: right;\">\n",
       "      <th></th>\n",
       "      <th>age</th>\n",
       "      <th>default</th>\n",
       "      <th>balance</th>\n",
       "      <th>housing</th>\n",
       "      <th>loan</th>\n",
       "      <th>day</th>\n",
       "      <th>duration</th>\n",
       "      <th>campaign</th>\n",
       "      <th>pdays</th>\n",
       "      <th>previous</th>\n",
       "      <th>job_admin.</th>\n",
       "      <th>job_blue-collar</th>\n",
       "      <th>job_entrepreneur</th>\n",
       "      <th>job_housemaid</th>\n",
       "      <th>job_management</th>\n",
       "      <th>...</th>\n",
       "      <th>job_unknown</th>\n",
       "      <th>marital_divorced</th>\n",
       "      <th>marital_married</th>\n",
       "      <th>marital_single</th>\n",
       "      <th>education_primary</th>\n",
       "      <th>education_secondary</th>\n",
       "      <th>education_tertiary</th>\n",
       "      <th>education_unknown</th>\n",
       "      <th>contact_cellular</th>\n",
       "      <th>contact_telephone</th>\n",
       "      <th>contact_unknown</th>\n",
       "      <th>poutcome_failure</th>\n",
       "      <th>poutcome_other</th>\n",
       "      <th>poutcome_success</th>\n",
       "      <th>poutcome_unknown</th>\n",
       "    </tr>\n",
       "  </thead>\n",
       "  <tbody>\n",
       "    <tr>\n",
       "      <th>24060</th>\n",
       "      <td>33</td>\n",
       "      <td>0</td>\n",
       "      <td>882</td>\n",
       "      <td>0</td>\n",
       "      <td>0</td>\n",
       "      <td>21</td>\n",
       "      <td>39</td>\n",
       "      <td>1</td>\n",
       "      <td>151</td>\n",
       "      <td>3</td>\n",
       "      <td>1</td>\n",
       "      <td>0</td>\n",
       "      <td>0</td>\n",
       "      <td>0</td>\n",
       "      <td>0</td>\n",
       "      <td>...</td>\n",
       "      <td>0</td>\n",
       "      <td>0</td>\n",
       "      <td>1</td>\n",
       "      <td>0</td>\n",
       "      <td>0</td>\n",
       "      <td>0</td>\n",
       "      <td>1</td>\n",
       "      <td>0</td>\n",
       "      <td>0</td>\n",
       "      <td>1</td>\n",
       "      <td>0</td>\n",
       "      <td>1</td>\n",
       "      <td>0</td>\n",
       "      <td>0</td>\n",
       "      <td>0</td>\n",
       "    </tr>\n",
       "    <tr>\n",
       "      <th>24062</th>\n",
       "      <td>42</td>\n",
       "      <td>0</td>\n",
       "      <td>-247</td>\n",
       "      <td>1</td>\n",
       "      <td>1</td>\n",
       "      <td>21</td>\n",
       "      <td>519</td>\n",
       "      <td>1</td>\n",
       "      <td>166</td>\n",
       "      <td>1</td>\n",
       "      <td>1</td>\n",
       "      <td>0</td>\n",
       "      <td>0</td>\n",
       "      <td>0</td>\n",
       "      <td>0</td>\n",
       "      <td>...</td>\n",
       "      <td>0</td>\n",
       "      <td>0</td>\n",
       "      <td>0</td>\n",
       "      <td>1</td>\n",
       "      <td>0</td>\n",
       "      <td>1</td>\n",
       "      <td>0</td>\n",
       "      <td>0</td>\n",
       "      <td>0</td>\n",
       "      <td>1</td>\n",
       "      <td>0</td>\n",
       "      <td>0</td>\n",
       "      <td>1</td>\n",
       "      <td>0</td>\n",
       "      <td>0</td>\n",
       "    </tr>\n",
       "    <tr>\n",
       "      <th>24064</th>\n",
       "      <td>33</td>\n",
       "      <td>0</td>\n",
       "      <td>3444</td>\n",
       "      <td>1</td>\n",
       "      <td>0</td>\n",
       "      <td>21</td>\n",
       "      <td>144</td>\n",
       "      <td>1</td>\n",
       "      <td>91</td>\n",
       "      <td>4</td>\n",
       "      <td>0</td>\n",
       "      <td>0</td>\n",
       "      <td>0</td>\n",
       "      <td>0</td>\n",
       "      <td>0</td>\n",
       "      <td>...</td>\n",
       "      <td>0</td>\n",
       "      <td>0</td>\n",
       "      <td>1</td>\n",
       "      <td>0</td>\n",
       "      <td>0</td>\n",
       "      <td>1</td>\n",
       "      <td>0</td>\n",
       "      <td>0</td>\n",
       "      <td>0</td>\n",
       "      <td>1</td>\n",
       "      <td>0</td>\n",
       "      <td>1</td>\n",
       "      <td>0</td>\n",
       "      <td>0</td>\n",
       "      <td>0</td>\n",
       "    </tr>\n",
       "    <tr>\n",
       "      <th>24072</th>\n",
       "      <td>36</td>\n",
       "      <td>0</td>\n",
       "      <td>2415</td>\n",
       "      <td>1</td>\n",
       "      <td>0</td>\n",
       "      <td>22</td>\n",
       "      <td>73</td>\n",
       "      <td>1</td>\n",
       "      <td>86</td>\n",
       "      <td>4</td>\n",
       "      <td>0</td>\n",
       "      <td>0</td>\n",
       "      <td>0</td>\n",
       "      <td>0</td>\n",
       "      <td>1</td>\n",
       "      <td>...</td>\n",
       "      <td>0</td>\n",
       "      <td>0</td>\n",
       "      <td>1</td>\n",
       "      <td>0</td>\n",
       "      <td>0</td>\n",
       "      <td>0</td>\n",
       "      <td>1</td>\n",
       "      <td>0</td>\n",
       "      <td>0</td>\n",
       "      <td>1</td>\n",
       "      <td>0</td>\n",
       "      <td>0</td>\n",
       "      <td>1</td>\n",
       "      <td>0</td>\n",
       "      <td>0</td>\n",
       "    </tr>\n",
       "    <tr>\n",
       "      <th>24077</th>\n",
       "      <td>36</td>\n",
       "      <td>0</td>\n",
       "      <td>0</td>\n",
       "      <td>1</td>\n",
       "      <td>0</td>\n",
       "      <td>23</td>\n",
       "      <td>140</td>\n",
       "      <td>1</td>\n",
       "      <td>143</td>\n",
       "      <td>3</td>\n",
       "      <td>0</td>\n",
       "      <td>0</td>\n",
       "      <td>0</td>\n",
       "      <td>0</td>\n",
       "      <td>1</td>\n",
       "      <td>...</td>\n",
       "      <td>0</td>\n",
       "      <td>0</td>\n",
       "      <td>1</td>\n",
       "      <td>0</td>\n",
       "      <td>0</td>\n",
       "      <td>0</td>\n",
       "      <td>1</td>\n",
       "      <td>0</td>\n",
       "      <td>0</td>\n",
       "      <td>1</td>\n",
       "      <td>0</td>\n",
       "      <td>1</td>\n",
       "      <td>0</td>\n",
       "      <td>0</td>\n",
       "      <td>0</td>\n",
       "    </tr>\n",
       "    <tr>\n",
       "      <th>...</th>\n",
       "      <td>...</td>\n",
       "      <td>...</td>\n",
       "      <td>...</td>\n",
       "      <td>...</td>\n",
       "      <td>...</td>\n",
       "      <td>...</td>\n",
       "      <td>...</td>\n",
       "      <td>...</td>\n",
       "      <td>...</td>\n",
       "      <td>...</td>\n",
       "      <td>...</td>\n",
       "      <td>...</td>\n",
       "      <td>...</td>\n",
       "      <td>...</td>\n",
       "      <td>...</td>\n",
       "      <td>...</td>\n",
       "      <td>...</td>\n",
       "      <td>...</td>\n",
       "      <td>...</td>\n",
       "      <td>...</td>\n",
       "      <td>...</td>\n",
       "      <td>...</td>\n",
       "      <td>...</td>\n",
       "      <td>...</td>\n",
       "      <td>...</td>\n",
       "      <td>...</td>\n",
       "      <td>...</td>\n",
       "      <td>...</td>\n",
       "      <td>...</td>\n",
       "      <td>...</td>\n",
       "      <td>...</td>\n",
       "    </tr>\n",
       "    <tr>\n",
       "      <th>45199</th>\n",
       "      <td>34</td>\n",
       "      <td>0</td>\n",
       "      <td>1475</td>\n",
       "      <td>1</td>\n",
       "      <td>0</td>\n",
       "      <td>16</td>\n",
       "      <td>1166</td>\n",
       "      <td>3</td>\n",
       "      <td>530</td>\n",
       "      <td>12</td>\n",
       "      <td>0</td>\n",
       "      <td>1</td>\n",
       "      <td>0</td>\n",
       "      <td>0</td>\n",
       "      <td>0</td>\n",
       "      <td>...</td>\n",
       "      <td>0</td>\n",
       "      <td>0</td>\n",
       "      <td>0</td>\n",
       "      <td>1</td>\n",
       "      <td>0</td>\n",
       "      <td>1</td>\n",
       "      <td>0</td>\n",
       "      <td>0</td>\n",
       "      <td>1</td>\n",
       "      <td>0</td>\n",
       "      <td>0</td>\n",
       "      <td>0</td>\n",
       "      <td>1</td>\n",
       "      <td>0</td>\n",
       "      <td>0</td>\n",
       "    </tr>\n",
       "    <tr>\n",
       "      <th>45201</th>\n",
       "      <td>53</td>\n",
       "      <td>0</td>\n",
       "      <td>583</td>\n",
       "      <td>0</td>\n",
       "      <td>0</td>\n",
       "      <td>17</td>\n",
       "      <td>226</td>\n",
       "      <td>1</td>\n",
       "      <td>184</td>\n",
       "      <td>4</td>\n",
       "      <td>0</td>\n",
       "      <td>0</td>\n",
       "      <td>0</td>\n",
       "      <td>0</td>\n",
       "      <td>1</td>\n",
       "      <td>...</td>\n",
       "      <td>0</td>\n",
       "      <td>0</td>\n",
       "      <td>1</td>\n",
       "      <td>0</td>\n",
       "      <td>0</td>\n",
       "      <td>0</td>\n",
       "      <td>1</td>\n",
       "      <td>0</td>\n",
       "      <td>1</td>\n",
       "      <td>0</td>\n",
       "      <td>0</td>\n",
       "      <td>0</td>\n",
       "      <td>0</td>\n",
       "      <td>1</td>\n",
       "      <td>0</td>\n",
       "    </tr>\n",
       "    <tr>\n",
       "      <th>45204</th>\n",
       "      <td>73</td>\n",
       "      <td>0</td>\n",
       "      <td>2850</td>\n",
       "      <td>0</td>\n",
       "      <td>0</td>\n",
       "      <td>17</td>\n",
       "      <td>300</td>\n",
       "      <td>1</td>\n",
       "      <td>40</td>\n",
       "      <td>8</td>\n",
       "      <td>0</td>\n",
       "      <td>0</td>\n",
       "      <td>0</td>\n",
       "      <td>0</td>\n",
       "      <td>0</td>\n",
       "      <td>...</td>\n",
       "      <td>0</td>\n",
       "      <td>0</td>\n",
       "      <td>1</td>\n",
       "      <td>0</td>\n",
       "      <td>0</td>\n",
       "      <td>1</td>\n",
       "      <td>0</td>\n",
       "      <td>0</td>\n",
       "      <td>1</td>\n",
       "      <td>0</td>\n",
       "      <td>0</td>\n",
       "      <td>1</td>\n",
       "      <td>0</td>\n",
       "      <td>0</td>\n",
       "      <td>0</td>\n",
       "    </tr>\n",
       "    <tr>\n",
       "      <th>45208</th>\n",
       "      <td>72</td>\n",
       "      <td>0</td>\n",
       "      <td>5715</td>\n",
       "      <td>0</td>\n",
       "      <td>0</td>\n",
       "      <td>17</td>\n",
       "      <td>1127</td>\n",
       "      <td>5</td>\n",
       "      <td>184</td>\n",
       "      <td>3</td>\n",
       "      <td>0</td>\n",
       "      <td>0</td>\n",
       "      <td>0</td>\n",
       "      <td>0</td>\n",
       "      <td>0</td>\n",
       "      <td>...</td>\n",
       "      <td>0</td>\n",
       "      <td>0</td>\n",
       "      <td>1</td>\n",
       "      <td>0</td>\n",
       "      <td>0</td>\n",
       "      <td>1</td>\n",
       "      <td>0</td>\n",
       "      <td>0</td>\n",
       "      <td>1</td>\n",
       "      <td>0</td>\n",
       "      <td>0</td>\n",
       "      <td>0</td>\n",
       "      <td>0</td>\n",
       "      <td>1</td>\n",
       "      <td>0</td>\n",
       "    </tr>\n",
       "    <tr>\n",
       "      <th>45210</th>\n",
       "      <td>37</td>\n",
       "      <td>0</td>\n",
       "      <td>2971</td>\n",
       "      <td>0</td>\n",
       "      <td>0</td>\n",
       "      <td>17</td>\n",
       "      <td>361</td>\n",
       "      <td>2</td>\n",
       "      <td>188</td>\n",
       "      <td>11</td>\n",
       "      <td>0</td>\n",
       "      <td>0</td>\n",
       "      <td>1</td>\n",
       "      <td>0</td>\n",
       "      <td>0</td>\n",
       "      <td>...</td>\n",
       "      <td>0</td>\n",
       "      <td>0</td>\n",
       "      <td>1</td>\n",
       "      <td>0</td>\n",
       "      <td>0</td>\n",
       "      <td>1</td>\n",
       "      <td>0</td>\n",
       "      <td>0</td>\n",
       "      <td>1</td>\n",
       "      <td>0</td>\n",
       "      <td>0</td>\n",
       "      <td>0</td>\n",
       "      <td>1</td>\n",
       "      <td>0</td>\n",
       "      <td>0</td>\n",
       "    </tr>\n",
       "  </tbody>\n",
       "</table>\n",
       "<p>8257 rows × 36 columns</p>\n",
       "</div>"
      ],
      "text/plain": [
       "       age  default  balance  housing  loan  day  duration  campaign  pdays  \\\n",
       "24060   33        0      882        0     0   21        39         1    151   \n",
       "24062   42        0     -247        1     1   21       519         1    166   \n",
       "24064   33        0     3444        1     0   21       144         1     91   \n",
       "24072   36        0     2415        1     0   22        73         1     86   \n",
       "24077   36        0        0        1     0   23       140         1    143   \n",
       "...    ...      ...      ...      ...   ...  ...       ...       ...    ...   \n",
       "45199   34        0     1475        1     0   16      1166         3    530   \n",
       "45201   53        0      583        0     0   17       226         1    184   \n",
       "45204   73        0     2850        0     0   17       300         1     40   \n",
       "45208   72        0     5715        0     0   17      1127         5    184   \n",
       "45210   37        0     2971        0     0   17       361         2    188   \n",
       "\n",
       "       previous  job_admin.  job_blue-collar  job_entrepreneur  job_housemaid  \\\n",
       "24060         3           1                0                 0              0   \n",
       "24062         1           1                0                 0              0   \n",
       "24064         4           0                0                 0              0   \n",
       "24072         4           0                0                 0              0   \n",
       "24077         3           0                0                 0              0   \n",
       "...         ...         ...              ...               ...            ...   \n",
       "45199        12           0                1                 0              0   \n",
       "45201         4           0                0                 0              0   \n",
       "45204         8           0                0                 0              0   \n",
       "45208         3           0                0                 0              0   \n",
       "45210        11           0                0                 1              0   \n",
       "\n",
       "       job_management  ...  job_unknown  marital_divorced  marital_married  \\\n",
       "24060               0  ...            0                 0                1   \n",
       "24062               0  ...            0                 0                0   \n",
       "24064               0  ...            0                 0                1   \n",
       "24072               1  ...            0                 0                1   \n",
       "24077               1  ...            0                 0                1   \n",
       "...               ...  ...          ...               ...              ...   \n",
       "45199               0  ...            0                 0                0   \n",
       "45201               1  ...            0                 0                1   \n",
       "45204               0  ...            0                 0                1   \n",
       "45208               0  ...            0                 0                1   \n",
       "45210               0  ...            0                 0                1   \n",
       "\n",
       "       marital_single  education_primary  education_secondary  \\\n",
       "24060               0                  0                    0   \n",
       "24062               1                  0                    1   \n",
       "24064               0                  0                    1   \n",
       "24072               0                  0                    0   \n",
       "24077               0                  0                    0   \n",
       "...               ...                ...                  ...   \n",
       "45199               1                  0                    1   \n",
       "45201               0                  0                    0   \n",
       "45204               0                  0                    1   \n",
       "45208               0                  0                    1   \n",
       "45210               0                  0                    1   \n",
       "\n",
       "       education_tertiary  education_unknown  contact_cellular  \\\n",
       "24060                   1                  0                 0   \n",
       "24062                   0                  0                 0   \n",
       "24064                   0                  0                 0   \n",
       "24072                   1                  0                 0   \n",
       "24077                   1                  0                 0   \n",
       "...                   ...                ...               ...   \n",
       "45199                   0                  0                 1   \n",
       "45201                   1                  0                 1   \n",
       "45204                   0                  0                 1   \n",
       "45208                   0                  0                 1   \n",
       "45210                   0                  0                 1   \n",
       "\n",
       "       contact_telephone  contact_unknown  poutcome_failure  poutcome_other  \\\n",
       "24060                  1                0                 1               0   \n",
       "24062                  1                0                 0               1   \n",
       "24064                  1                0                 1               0   \n",
       "24072                  1                0                 0               1   \n",
       "24077                  1                0                 1               0   \n",
       "...                  ...              ...               ...             ...   \n",
       "45199                  0                0                 0               1   \n",
       "45201                  0                0                 0               0   \n",
       "45204                  0                0                 1               0   \n",
       "45208                  0                0                 0               0   \n",
       "45210                  0                0                 0               1   \n",
       "\n",
       "       poutcome_success  poutcome_unknown  \n",
       "24060                 0                 0  \n",
       "24062                 0                 0  \n",
       "24064                 0                 0  \n",
       "24072                 0                 0  \n",
       "24077                 0                 0  \n",
       "...                 ...               ...  \n",
       "45199                 0                 0  \n",
       "45201                 1                 0  \n",
       "45204                 0                 0  \n",
       "45208                 1                 0  \n",
       "45210                 0                 0  \n",
       "\n",
       "[8257 rows x 36 columns]"
      ]
     },
     "execution_count": 18,
     "metadata": {},
     "output_type": "execute_result"
    }
   ],
   "source": [
    "df"
   ]
  },
  {
   "cell_type": "markdown",
   "id": "93fc84fd",
   "metadata": {},
   "source": [
    "# Modeling\n",
    "- Logistic Regression\n",
    "- K-Nearest Neighbors\n",
    "- Suport Vector Machine\n",
    "- Decision Tree\n",
    "- Random Forest\n",
    "- Naive Bayes"
   ]
  },
  {
   "cell_type": "code",
   "execution_count": 19,
   "id": "147000d2",
   "metadata": {},
   "outputs": [],
   "source": [
    "# Splitting data\n",
    "from sklearn.model_selection import train_test_split\n",
    "X_train, X_test, y_train, y_test = train_test_split(df,y, test_size = 0.2, random_state = 42 , stratify=y)"
   ]
  },
  {
   "cell_type": "code",
   "execution_count": 20,
   "id": "698f75a3",
   "metadata": {},
   "outputs": [],
   "source": [
    "# Merubah X_train dan X_test menjadi numpy array (test set sudah berbentuk array ajdi tidak perlu)\n",
    "X_train = np.array(X_train)\n",
    "X_test = np.array(X_test)"
   ]
  },
  {
   "cell_type": "code",
   "execution_count": 22,
   "id": "f9eb9d77",
   "metadata": {},
   "outputs": [
    {
     "data": {
      "text/plain": [
       "array([[   38,     0, 11971, ...,     0,     0,     0],\n",
       "       [   32,     1,  -575, ...,     0,     0,     0],\n",
       "       [   29,     0,    25, ...,     0,     0,     0],\n",
       "       ...,\n",
       "       [   32,     0,   138, ...,     1,     0,     0],\n",
       "       [   54,     0,   140, ...,     0,     0,     0],\n",
       "       [   31,     0,     4, ...,     1,     0,     0]], dtype=int64)"
      ]
     },
     "execution_count": 22,
     "metadata": {},
     "output_type": "execute_result"
    }
   ],
   "source": [
    "X_train"
   ]
  },
  {
   "cell_type": "code",
   "execution_count": 23,
   "id": "8ee84c1f",
   "metadata": {},
   "outputs": [],
   "source": [
    "# Preprocessing Standardization (Feature Scaling)\n",
    "from sklearn.preprocessing import StandardScaler\n",
    "sc_X = StandardScaler()\n",
    "X_train = sc_X.fit_transform(X_train)\n",
    "X_test = sc_X.transform(X_test)"
   ]
  },
  {
   "cell_type": "markdown",
   "id": "9db79181",
   "metadata": {},
   "source": [
    "## Logistic Regresion"
   ]
  },
  {
   "cell_type": "code",
   "execution_count": 24,
   "id": "c512efbc",
   "metadata": {},
   "outputs": [
    {
     "name": "stdout",
     "output_type": "stream",
     "text": [
      "Wall time: 175 ms\n",
      "Wall time: 0 ns\n",
      "              precision    recall  f1-score   support\n",
      "\n",
      "           0       0.88      0.94      0.91      1271\n",
      "           1       0.73      0.57      0.64       381\n",
      "\n",
      "    accuracy                           0.85      1652\n",
      "   macro avg       0.81      0.76      0.78      1652\n",
      "weighted avg       0.85      0.85      0.85      1652\n",
      "\n",
      "[[1191   80]\n",
      " [ 162  219]]\n"
     ]
    }
   ],
   "source": [
    "from sklearn.linear_model import LogisticRegression\n",
    "from sklearn.metrics import classification_report\n",
    "from sklearn.metrics import confusion_matrix\n",
    "# Train The model\n",
    "model_lr = LogisticRegression(solver=\"liblinear\", random_state = 42, penalty = 'l1')\n",
    "%time model_lr.fit(X_train, y_train)\n",
    "# Predict model DecissionTree and summary statistic\n",
    "%time lr_test_predict = model_lr.predict(X_test)\n",
    "cm = confusion_matrix(y_test, lr_test_predict)\n",
    "print(classification_report(y_test, lr_test_predict))\n",
    "print(cm)"
   ]
  },
  {
   "cell_type": "markdown",
   "id": "955b3626",
   "metadata": {},
   "source": [
    "## K-Nearest Neighbors"
   ]
  },
  {
   "cell_type": "code",
   "execution_count": 25,
   "id": "aebafb49",
   "metadata": {},
   "outputs": [
    {
     "name": "stdout",
     "output_type": "stream",
     "text": [
      "Wall time: 0 ns\n",
      "Wall time: 290 ms\n",
      "              precision    recall  f1-score   support\n",
      "\n",
      "           0       0.86      0.92      0.89      1271\n",
      "           1       0.66      0.51      0.58       381\n",
      "\n",
      "    accuracy                           0.83      1652\n",
      "   macro avg       0.76      0.72      0.73      1652\n",
      "weighted avg       0.82      0.83      0.82      1652\n",
      "\n",
      "[[1172   99]\n",
      " [ 187  194]]\n"
     ]
    }
   ],
   "source": [
    "from sklearn.neighbors import KNeighborsClassifier\n",
    "model_knn = KNeighborsClassifier(n_neighbors=5, weights='uniform', algorithm='auto', metric='minkowski',n_jobs=-2)\n",
    "%time model_knn.fit(X_train, y_train)\n",
    "# Predict model SVC gaussian and summary statistic\n",
    "%time knn_test_predict = model_knn.predict(X_test)\n",
    "cm = confusion_matrix(y_test, knn_test_predict)\n",
    "print(classification_report(y_test, knn_test_predict))\n",
    "print(cm)"
   ]
  },
  {
   "cell_type": "markdown",
   "id": "84de40ab",
   "metadata": {},
   "source": [
    "## Suport Vector Machine"
   ]
  },
  {
   "cell_type": "code",
   "execution_count": 26,
   "id": "7f8b5280",
   "metadata": {},
   "outputs": [
    {
     "name": "stdout",
     "output_type": "stream",
     "text": [
      "Wall time: 3.42 s\n",
      "Wall time: 100 ms\n",
      "              precision    recall  f1-score   support\n",
      "\n",
      "           0       0.82      0.97      0.89      1271\n",
      "           1       0.76      0.28      0.41       381\n",
      "\n",
      "    accuracy                           0.81      1652\n",
      "   macro avg       0.79      0.63      0.65      1652\n",
      "weighted avg       0.81      0.81      0.78      1652\n",
      "\n",
      "[[1237   34]\n",
      " [ 273  108]]\n"
     ]
    }
   ],
   "source": [
    "from sklearn.svm import SVC\n",
    "# Train The model\n",
    "model_svc = SVC(kernel=\"poly\", random_state = 42, C=0.1, probability=True)\n",
    "%time model_svc.fit(X_train, y_train)\n",
    "# Predict model SVC gaussian and summary statistic\n",
    "%time svc_test_predict = model_svc.predict(X_test)\n",
    "cm = confusion_matrix(y_test, svc_test_predict)\n",
    "print(classification_report(y_test, svc_test_predict))\n",
    "print(cm)"
   ]
  },
  {
   "cell_type": "markdown",
   "id": "7d797a11",
   "metadata": {},
   "source": [
    "## Decision Tree"
   ]
  },
  {
   "cell_type": "code",
   "execution_count": 27,
   "id": "48374bc2",
   "metadata": {},
   "outputs": [
    {
     "name": "stdout",
     "output_type": "stream",
     "text": [
      "Wall time: 27.1 ms\n",
      "Wall time: 998 µs\n",
      "              precision    recall  f1-score   support\n",
      "\n",
      "           0       0.87      0.91      0.89      1271\n",
      "           1       0.65      0.53      0.58       381\n",
      "\n",
      "    accuracy                           0.82      1652\n",
      "   macro avg       0.76      0.72      0.74      1652\n",
      "weighted avg       0.82      0.82      0.82      1652\n",
      "\n",
      "[[1160  111]\n",
      " [ 179  202]]\n"
     ]
    }
   ],
   "source": [
    "from sklearn.tree import DecisionTreeClassifier\n",
    "# Train The model\n",
    "model_dt = DecisionTreeClassifier(criterion =\"gini\", max_depth = 10, random_state = 42)\n",
    "%time model_dt.fit(X_train, y_train)\n",
    "# Predict model DecissionTree and summary statistic\n",
    "%time dt_test_predict = model_dt.predict(X_test)\n",
    "cm = confusion_matrix(y_test, dt_test_predict)\n",
    "print(classification_report(y_test, dt_test_predict))\n",
    "print(cm)"
   ]
  },
  {
   "cell_type": "markdown",
   "id": "51414fca",
   "metadata": {},
   "source": [
    "## Random Forest"
   ]
  },
  {
   "cell_type": "code",
   "execution_count": 39,
   "id": "a7134d4c",
   "metadata": {},
   "outputs": [
    {
     "name": "stdout",
     "output_type": "stream",
     "text": [
      "Wall time: 364 ms\n",
      "Wall time: 11.1 ms\n",
      "              precision    recall  f1-score   support\n",
      "\n",
      "           0       0.87      0.95      0.91      1271\n",
      "           1       0.76      0.52      0.62       381\n",
      "\n",
      "    accuracy                           0.85      1652\n",
      "   macro avg       0.81      0.74      0.76      1652\n",
      "weighted avg       0.84      0.85      0.84      1652\n",
      "\n",
      "[[1191  162]\n",
      " [  80  219]]\n"
     ]
    }
   ],
   "source": [
    "from sklearn.ensemble import RandomForestClassifier\n",
    "# Train The model\n",
    "model_rf = RandomForestClassifier(criterion =\"gini\", max_depth = 10, n_estimators = 101, random_state = 42)\n",
    "%time model_rf.fit(X_train, y_train)\n",
    "# Predict model RandomForest and summary statistic\n",
    "%time rf_test_predict = model_rf.predict(X_test)\n",
    "cmr = confusion_matrix(y_test, rf_test_predict)\n",
    "print(classification_report(y_test, rf_test_predict))\n",
    "print(cm)"
   ]
  },
  {
   "cell_type": "markdown",
   "id": "12d670e0",
   "metadata": {},
   "source": [
    "## Naive Bayes"
   ]
  },
  {
   "cell_type": "code",
   "execution_count": 29,
   "id": "1e5d71c0",
   "metadata": {},
   "outputs": [
    {
     "name": "stdout",
     "output_type": "stream",
     "text": [
      "Wall time: 4 ms\n",
      "Wall time: 1 ms\n",
      "              precision    recall  f1-score   support\n",
      "\n",
      "           0       0.89      0.81      0.85      1271\n",
      "           1       0.51      0.66      0.57       381\n",
      "\n",
      "    accuracy                           0.78      1652\n",
      "   macro avg       0.70      0.73      0.71      1652\n",
      "weighted avg       0.80      0.78      0.78      1652\n",
      "\n",
      "[[1032  239]\n",
      " [ 131  250]]\n"
     ]
    }
   ],
   "source": [
    "from sklearn.naive_bayes import GaussianNB\n",
    "\n",
    "model_nb = GaussianNB()\n",
    "%time model_nb.fit(X_train, y_train)\n",
    "# Predict model RandomForest and summary statistic\n",
    "%time nb_test_predict = model_nb.predict(X_test)\n",
    "cm = confusion_matrix(y_test, nb_test_predict)\n",
    "print(classification_report(y_test, nb_test_predict))\n",
    "print(cm)"
   ]
  },
  {
   "cell_type": "markdown",
   "id": "210fe2e2",
   "metadata": {},
   "source": [
    "# ROC AUC Curve"
   ]
  },
  {
   "cell_type": "code",
   "execution_count": 30,
   "id": "1baaac04",
   "metadata": {},
   "outputs": [],
   "source": [
    "def plot_roc_curve(fpr, tpr, label=None):\n",
    "    plt.plot(fpr, tpr, linewidth=2, label=label)\n",
    "    plt.plot([0, 1], [0, 1], 'k--') # dashed diagonal\n",
    "    plt.axis([0, 1, 0, 1])                                    \n",
    "    plt.xlabel('False Positive Rate (Fall-Out)', fontsize=16) \n",
    "    plt.ylabel('True Positive Rate (Recall)', fontsize=16)   \n",
    "    plt.grid(True)"
   ]
  },
  {
   "cell_type": "code",
   "execution_count": 33,
   "id": "cd278068",
   "metadata": {},
   "outputs": [
    {
     "data": {
      "image/png": "[encoded data removed]",
      "text/plain": [
       "<Figure size 576x432 with 1 Axes>"
      ]
     },
     "metadata": {
      "needs_background": "light"
     },
     "output_type": "display_data"
    }
   ],
   "source": [
    "from sklearn.metrics import roc_curve,auc\n",
    "plt.figure(figsize=(8, 6))                                   \n",
    "plt.axis([0, 1, 0, 1])                                   \n",
    "plt.xlabel('False Positive Rate (Fall-Out)', fontsize=16) \n",
    "plt.ylabel('True Positive Rate (Recall)', fontsize=16)    \n",
    "plt.grid(True)                                           \n",
    "plt.plot([0, 1], [0, 1], 'k--') # dashed diagonal\n",
    "labels=[\"LR\",'KNN','SVC','DecissionTree', 'RandomForest','NaiveBayes']\n",
    "for idx,model in enumerate([model_lr,model_knn,model_svc,model_dt,model_rf,model_nb]):\n",
    "    y_scores=model.predict_proba(X_test)[:,1]\n",
    "    fpr, tpr, thresholds = roc_curve(y_test, y_scores)\n",
    "    roc_auc = auc(fpr, tpr)\n",
    "    plt.plot(fpr, tpr, linewidth=2,label=labels[idx] + ' ROC curve (area = %0.2f)' % roc_auc)\n",
    "plt.legend(loc=\"lower right\");"
   ]
  },
  {
   "cell_type": "markdown",
   "id": "ffe8e59f",
   "metadata": {},
   "source": [
    "Disini sudah jelas bahwa model RandomForest lebih unggul, karna nilai TPR nya mendekati angka 1 yang dimana model cukup baik dalam hal memprediksi, tapi apakah model RandomForest ini akan lebih baik jika dilakukan HyperParameter Tuning?, pada langkah selanjutnya saya akan melakukan nya melakukan evaluasi model menggunakan cofusion matrix pada model random forest."
   ]
  },
  {
   "cell_type": "code",
   "execution_count": 44,
   "id": "6ed51291",
   "metadata": {},
   "outputs": [
    {
     "name": "stdout",
     "output_type": "stream",
     "text": [
      "              precision    recall  f1-score   support\n",
      "\n",
      "           0       0.94      0.88      0.91      1353\n",
      "           1       0.57      0.73      0.64       299\n",
      "\n",
      "    accuracy                           0.85      1652\n",
      "   macro avg       0.76      0.81      0.78      1652\n",
      "weighted avg       0.87      0.85      0.86      1652\n",
      "\n",
      "[[1191  162]\n",
      " [  80  219]]\n"
     ]
    }
   ],
   "source": [
    "from sklearn.metrics import accuracy_score\n",
    "rf_best_random = model_lr\n",
    "y_pred_rf = rf_best_random.predict(X_test)\n",
    "cmr = confusion_matrix(y_pred_rf,y_test)\n",
    "print(classification_report(y_pred_rf,y_test))\n",
    "print(cm)"
   ]
  },
  {
   "cell_type": "code",
   "execution_count": 45,
   "id": "027a825b",
   "metadata": {},
   "outputs": [
    {
     "data": {
      "image/png": "[encoded data removed]",
      "text/plain": [
       "<Figure size 432x288 with 2 Axes>"
      ]
     },
     "metadata": {
      "needs_background": "light"
     },
     "output_type": "display_data"
    }
   ],
   "source": [
    "# Menggunakan seaborn untuk CM\n",
    "cm_label = pd.DataFrame(cmr, columns = np.unique(y_test),\n",
    "                        index = np.unique(y_test))\n",
    "\n",
    "cm_label.index.name = 'Aktual'\n",
    "cm_label.columns.name = 'Prediksi'\n",
    "sns.heatmap(cm_label, annot=True, cmap='Reds', fmt='g');"
   ]
  },
  {
   "cell_type": "markdown",
   "id": "97c559af",
   "metadata": {},
   "source": [
    "dari confusion matrix pada data test dapat disimpulkan bahwa 0 dan terprediksi 0 sangat banyak artinya data tersebut memang imbalance, dan mesti diperlakukan khusus untuk balancing, dan yang aktual nya 1 atau deposit dan terprediksi deposit terdapat 219 dari 299 data y_test (1)."
   ]
  }
 ],
 "metadata": {
  "kernelspec": {
   "display_name": "Python 3",
   "language": "python",
   "name": "python3"
  },
  "language_info": {
   "codemirror_mode": {
    "name": "ipython",
    "version": 3
   },
   "file_extension": ".py",
   "mimetype": "text/x-python",
   "name": "python",
   "nbconvert_exporter": "python",
   "pygments_lexer": "ipython3",
   "version": "3.6.13"
  }
 },
 "nbformat": 4,
 "nbformat_minor": 5
}
